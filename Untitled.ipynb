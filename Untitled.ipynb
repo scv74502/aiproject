{
 "cells": [
  {
   "cell_type": "code",
   "execution_count": 4,
   "metadata": {},
   "outputs": [],
   "source": [
    "import torch\n",
    "import torch.nn as nn\n",
    "import cv2\n",
    "import matplotlib.pyplot as plt\n",
    "import numpy as np"
   ]
  },
  {
   "cell_type": "code",
   "execution_count": 35,
   "metadata": {},
   "outputs": [
    {
     "name": "stdout",
     "output_type": "stream",
     "text": [
      "file_list_py: ['0. 출발역 오금행(하선).wav', '1. 주엽.wav', '1. 출발역 대화행(상선).wav', '10. 매봉.wav', '10. 지축.wav', '11. 구파발.wav', '11. 양재.wav', '11.1 (다음역) 연신내.wav', '12. 남부터미널.wav', '12. 연신내.wav', '12.1 (다음역) 불광.wav', '1213-1711 경기상고.wav', '1213-1711 경복궁전철역.wav', '1213-1711 신교동.wav', '1213-1711 자하문터널 석파정.wav', '1213-1711 종로구보건소.wav', '1213-1711 하림각.wav', '13. 교대.wav', '13. 불광.wav', '13.1 (다음역) 고속터미널.wav', '14. 고속터미널.wav', '14. 녹번.wav', '15. 잠원.wav', '15. 홍제.wav', '15.1 홍제_서울화예술대 - 국문 (강희선).wav', '15.2 홍제_서울화예술대 - 영문 (제니퍼클라이드).wav', '16. 무악재.wav', '16. 신사.wav', '17. 독립문.wav', '17. 압구정_상행.wav', '17.1 (다음역) 옥수.wav', '170805 3호선 시작역 안내방송 구파발행.wav', '170805 3호선 시작역 안내방송 대화행.wav', '170805 3호선 시작역 안내방송 도곡행.wav', '170805 3호선 시작역 안내방송 독립문행.wav', '170805 3호선 시작역 안내방송 삼송행.wav', '170805 3호선 시작역 안내방송 압구정행.wav', '170805 3호선 시작역 안내방송 약수행.wav', '170805 3호선 시작역 안내방송 오금행.wav', '170805 3호선 종착역 안내방송 구파발.wav', '170805 3호선 종착역 안내방송 대화.wav', '170805 3호선 종착역 안내방송 도곡.wav', '170805 3호선 종착역 안내방송 독립문.wav', '170805 3호선 종착역 안내방송 삼송.wav', '170805 3호선 종착역 안내방송 수서.wav', '170805 3호선 종착역 안내방송 압구정.wav', '170805 3호선 종착역 안내방송 약수.wav', '170805 3호선 종착역 안내방송 오금.wav', '18. 경복궁.wav', '18. 옥수.wav', '19. 금호.wav', '19. 안국.wav', '2. 경찰병원.wav', '2. 정발산.wav', '20. 약수.wav', '20. 종로3가_하행.wav', '21. 동대입구_상행.wav', '21. 을지로3가.wav', '22. 충무로_상행.wav', '22. 충무로_하행.wav', '23. 동대입구_하행.wav', '23. 을지로3가.wav', '24. 약수.wav', '24. 종로3가_상행.wav', '25. 금호.wav', '25. 안국.wav', '26. 경복궁.wav', '26. 옥수.wav', '27. 독립문.wav', '27. 압구정_하행.wav', '28. 무악재.wav', '28. 신사.wav', '29. 잠원.wav', '29. 홍제.wav', '29.1 홍제_서울화예술대 - 국문 (강희선).wav', '29.1(다음역) 고속터미널.wav', '29.2 홍제_서울화예술대 - 영문 (제니퍼클라이드).wav', '3. 가락시장.wav', '3. 마두.wav', '3.1 (다음역) 수서.wav', '30. 고속터미널.wav', '30. 녹번.wav', '30.1 (다음역) 교대.wav', '30.1 (다음역) 불광.wav', '31. 교대.wav', '31. 불광.wav', '31.1 (다음역) 연신내.wav', '32. 남부터미널.wav', '32. 연신내.wav', '33. 구파발.wav', '33. 양재.wav', '34. 매봉.wav', '34. 지축.wav', '35. 도곡.wav', '35. 삼송.wav', '36. 대치.wav', '36. 원흥.wav', '37. 원당.wav', '37. 학여울.wav', '38. 대청.wav', '38. 화정.wav', '38.1 (다음역)대곡.wav', '39. 대곡.wav', '39. 일원.wav', '39.1 (다음역) 수서.wav', '4. 백석.wav', '4. 수서.wav', '4.1 (다음역)대곡.wav', '40. 백석.wav', '40. 수서.wav', '40.1 (다음역) 가락시장.wav', '41. 가락시장.wav', '41. 마두.wav', '42. 경찰병원.wav', '42. 정발산.wav', '43. 오금(하행) 종착역.wav', '43. 주엽.wav', '44. 대화역(상행) 종착역.wav', '5. 대곡.wav', '5. 일원.wav', '6. 대청.wav', '6. 화정.wav', '7. 원당.wav', '7. 학여울.wav', '8. 대치.wav', '8. 원흥.wav', '9. 도곡.wav', '9. 삼송.wav', '경복궁역.wav', '교대역.wav', '금호역.wav', '남부터미널역.wav', '대치역.wav', '도곡역(뒷부분 약간 잘림).wav', '동대입구역.wav', '매봉역.wav', '수서역.wav', '안국역.wav', '옥수역.wav', '을지로3가역.wav', '일원역.wav', '잠원역.wav', '종로3가역.wav', '충무로역.wav', '학여울역.wav']\n"
     ]
    }
   ],
   "source": [
    "import os\n",
    "path = \"./WAV/\"\n",
    "file_list = os.listdir(path)\n",
    "file_list_py = [file for file in file_list if file.endswith(\".wav\")]\n",
    "\n",
    "print(\"file_list_py: {}\".format(file_list_py))"
   ]
  },
  {
   "cell_type": "code",
   "execution_count": 38,
   "metadata": {},
   "outputs": [
    {
     "data": {
      "text/plain": [
       "['1213-1711 경기상고.wav',\n",
       " '1213-1711 경복궁전철역.wav',\n",
       " '1213-1711 신교동.wav',\n",
       " '1213-1711 자하문터널 석파정.wav',\n",
       " '1213-1711 종로구보건소.wav',\n",
       " '1213-1711 하림각.wav']"
      ]
     },
     "execution_count": 38,
     "metadata": {},
     "output_type": "execute_result"
    }
   ],
   "source": [
    "file_list_py[11:17]"
   ]
  },
  {
   "cell_type": "code",
   "execution_count": 66,
   "metadata": {},
   "outputs": [],
   "source": [
    "labels = torch.zeros(len(file_list_py))"
   ]
  },
  {
   "cell_type": "code",
   "execution_count": 67,
   "metadata": {},
   "outputs": [],
   "source": [
    "labels[11:17] = 1"
   ]
  },
  {
   "cell_type": "code",
   "execution_count": 68,
   "metadata": {},
   "outputs": [
    {
     "data": {
      "text/plain": [
       "tensor([0., 0., 0., 0., 0., 0., 0., 0., 0., 0., 0., 1., 1., 1., 1., 1., 1., 0.,\n",
       "        0., 0., 0., 0., 0., 0., 0., 0., 0., 0., 0., 0., 0., 0., 0., 0., 0., 0.,\n",
       "        0., 0., 0., 0., 0., 0., 0., 0., 0., 0., 0., 0., 0., 0., 0., 0., 0., 0.,\n",
       "        0., 0., 0., 0., 0., 0., 0., 0., 0., 0., 0., 0., 0., 0., 0., 0., 0., 0.,\n",
       "        0., 0., 0., 0., 0., 0., 0., 0., 0., 0., 0., 0., 0., 0., 0., 0., 0., 0.,\n",
       "        0., 0., 0., 0., 0., 0., 0., 0., 0., 0., 0., 0., 0., 0., 0., 0., 0., 0.,\n",
       "        0., 0., 0., 0., 0., 0., 0., 0., 0., 0., 0., 0., 0., 0., 0., 0., 0., 0.,\n",
       "        0., 0., 0., 0., 0., 0., 0., 0., 0., 0., 0., 0., 0., 0., 0., 0., 0., 0.,\n",
       "        0.])"
      ]
     },
     "execution_count": 68,
     "metadata": {},
     "output_type": "execute_result"
    }
   ],
   "source": [
    "labels"
   ]
  },
  {
   "cell_type": "code",
   "execution_count": 45,
   "metadata": {},
   "outputs": [
    {
     "data": {
      "text/plain": [
       "145"
      ]
     },
     "execution_count": 45,
     "metadata": {},
     "output_type": "execute_result"
    }
   ],
   "source": [
    "len(file_list_py)"
   ]
  },
  {
   "cell_type": "code",
   "execution_count": 48,
   "metadata": {},
   "outputs": [],
   "source": [
    "def get_file_name():\n",
    "    path = \"./mel_spectrogram\"\n",
    "    file_list = os.listdir(path)\n",
    "    file_list_py = [file for file in file_list if file.endswith(\".png\")]\n",
    "    print(\"file_list_py: {}\".format(file_list_py))\n",
    "    return file_list_py"
   ]
  },
  {
   "cell_type": "code",
   "execution_count": 49,
   "metadata": {},
   "outputs": [
    {
     "name": "stdout",
     "output_type": "stream",
     "text": [
      "file_list_py: ['0.png', '1.png', '10.png', '100.png', '101.png', '102.png', '103.png', '104.png', '105.png', '106.png', '107.png', '108.png', '109.png', '11.png', '110.png', '111.png', '112.png', '113.png', '114.png', '115.png', '116.png', '117.png', '118.png', '119.png', '12.png', '120.png', '121.png', '122.png', '123.png', '124.png', '125.png', '126.png', '127.png', '128.png', '129.png', '13.png', '130.png', '131.png', '132.png', '133.png', '134.png', '135.png', '136.png', '137.png', '138.png', '139.png', '14.png', '140.png', '141.png', '142.png', '143.png', '144.png', '15.png', '16.png', '17.png', '18.png', '19.png', '2.png', '20.png', '21.png', '22.png', '23.png', '24.png', '25.png', '26.png', '27.png', '28.png', '29.png', '3.png', '30.png', '31.png', '32.png', '33.png', '34.png', '35.png', '36.png', '37.png', '38.png', '39.png', '4.png', '40.png', '41.png', '42.png', '43.png', '44.png', '45.png', '46.png', '47.png', '48.png', '49.png', '5.png', '50.png', '51.png', '52.png', '53.png', '54.png', '55.png', '56.png', '57.png', '58.png', '59.png', '6.png', '60.png', '61.png', '62.png', '63.png', '64.png', '65.png', '66.png', '67.png', '68.png', '69.png', '7.png', '70.png', '71.png', '72.png', '73.png', '74.png', '75.png', '76.png', '77.png', '78.png', '79.png', '8.png', '80.png', '81.png', '82.png', '83.png', '84.png', '85.png', '86.png', '87.png', '88.png', '89.png', '9.png', '90.png', '91.png', '92.png', '93.png', '94.png', '95.png', '96.png', '97.png', '98.png', '99.png']\n"
     ]
    }
   ],
   "source": [
    "file = get_file_name()"
   ]
  },
  {
   "cell_type": "code",
   "execution_count": 56,
   "metadata": {},
   "outputs": [],
   "source": [
    "ims = []\n",
    "for i,img in enumerate(file):\n",
    "    im = cv2.imread('./mel_spectrogram/' + img)\n",
    "    ims.append(im)"
   ]
  },
  {
   "cell_type": "code",
   "execution_count": 61,
   "metadata": {},
   "outputs": [],
   "source": [
    "ims = torch.LongTensor(ims)"
   ]
  },
  {
   "cell_type": "code",
   "execution_count": 62,
   "metadata": {},
   "outputs": [
    {
     "data": {
      "text/plain": [
       "torch.Size([145, 400, 1000, 3])"
      ]
     },
     "execution_count": 62,
     "metadata": {},
     "output_type": "execute_result"
    }
   ],
   "source": [
    "ims.shape"
   ]
  },
  {
   "cell_type": "code",
   "execution_count": 64,
   "metadata": {},
   "outputs": [],
   "source": [
    "ims = torch.transpose(ims, 1,3)"
   ]
  },
  {
   "cell_type": "code",
   "execution_count": 65,
   "metadata": {},
   "outputs": [
    {
     "data": {
      "text/plain": [
       "torch.Size([145, 3, 1000, 400])"
      ]
     },
     "execution_count": 65,
     "metadata": {},
     "output_type": "execute_result"
    }
   ],
   "source": [
    "ims.shape"
   ]
  },
  {
   "cell_type": "code",
   "execution_count": 84,
   "metadata": {},
   "outputs": [],
   "source": [
    "from torch.utils.data import Dataset, DataLoader\n",
    "dataset = list(zip(ims, labels))\n",
    "train_loader = DataLoader(dataset=dataset, batch_size=32, shuffle=True, num_workers=2)\n"
   ]
  },
  {
   "cell_type": "code",
   "execution_count": 86,
   "metadata": {},
   "outputs": [
    {
     "name": "stdout",
     "output_type": "stream",
     "text": [
      "torch.Size([32, 3, 1000, 400]) tensor([0., 0., 0., 0., 0., 0., 1., 0., 0., 0., 0., 0., 0., 0., 0., 0., 0., 0.,\n",
      "        0., 0., 0., 0., 0., 0., 0., 0., 0., 0., 0., 0., 0., 0.])\n",
      "torch.Size([32, 3, 1000, 400]) tensor([0., 0., 0., 0., 0., 0., 0., 0., 0., 0., 0., 0., 0., 0., 0., 0., 0., 0.,\n",
      "        0., 0., 0., 0., 0., 0., 0., 1., 0., 0., 0., 0., 0., 0.])\n",
      "torch.Size([32, 3, 1000, 400]) tensor([0., 0., 0., 0., 0., 1., 0., 0., 0., 0., 0., 0., 0., 0., 0., 0., 0., 0.,\n",
      "        0., 0., 0., 0., 0., 0., 0., 0., 0., 0., 0., 0., 0., 0.])\n",
      "torch.Size([32, 3, 1000, 400]) tensor([0., 0., 0., 0., 0., 0., 0., 0., 0., 0., 0., 0., 0., 0., 0., 0., 0., 0.,\n",
      "        0., 0., 0., 0., 0., 0., 1., 0., 0., 0., 0., 1., 0., 0.])\n",
      "torch.Size([17, 3, 1000, 400]) tensor([0., 0., 0., 0., 0., 0., 0., 0., 0., 0., 0., 0., 0., 0., 0., 0., 1.])\n"
     ]
    }
   ],
   "source": [
    "for i,data in enumerate(train_loader):\n",
    "    image, label = data\n",
    "    print(image.shape, label)"
   ]
  }
 ],
 "metadata": {
  "kernelspec": {
   "display_name": "Python 3",
   "language": "python",
   "name": "python3"
  },
  "language_info": {
   "codemirror_mode": {
    "name": "ipython",
    "version": 3
   },
   "file_extension": ".py",
   "mimetype": "text/x-python",
   "name": "python",
   "nbconvert_exporter": "python",
   "pygments_lexer": "ipython3",
   "version": "3.7.3"
  }
 },
 "nbformat": 4,
 "nbformat_minor": 2
}
